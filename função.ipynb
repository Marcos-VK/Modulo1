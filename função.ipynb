print("Hello CodeSandbox!")
def funcao(x):
    y=x**2+x*2+16
    return y

print("y=x**2+x*2+16")
valorX=int(input("Digite um numero inteiro para X: "))
print(funcao(valorX))
